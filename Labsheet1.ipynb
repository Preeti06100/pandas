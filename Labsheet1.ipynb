{
  "nbformat": 4,
  "nbformat_minor": 0,
  "metadata": {
    "colab": {
      "provenance": [],
      "toc_visible": true,
      "authorship_tag": "ABX9TyNah14kquiC7/I0o137Q7uJ",
      "include_colab_link": true
    },
    "kernelspec": {
      "name": "python3",
      "display_name": "Python 3"
    },
    "language_info": {
      "name": "python"
    }
  },
  "cells": [
    {
      "cell_type": "markdown",
      "metadata": {
        "id": "view-in-github",
        "colab_type": "text"
      },
      "source": [
        "<a href=\"https://colab.research.google.com/github/Preeti06100/pandas/blob/main/Labsheet1.ipynb\" target=\"_parent\"><img src=\"https://colab.research.google.com/assets/colab-badge.svg\" alt=\"Open In Colab\"/></a>"
      ]
    },
    {
      "cell_type": "code",
      "execution_count": 2,
      "metadata": {
        "colab": {
          "base_uri": "https://localhost:8080/"
        },
        "id": "WYOCAjgz-1IX",
        "outputId": "0d92f778-070f-4b18-c3e4-5c97f88c71fb"
      },
      "outputs": [
        {
          "output_type": "stream",
          "name": "stdout",
          "text": [
            "Welcome to the Simple NumPy Calculator!\n",
            "\n",
            "Select operation:\n",
            "1. Add\n",
            "2. Subtract\n",
            "3. Multiply\n",
            "4. Divide\n",
            "5. Exit\n",
            "Enter choice (1/2/3/4/5): 1\n",
            "Enter first number: 20\n",
            "Enter second number: 40\n",
            "20.0 + 40.0 = 60.0\n",
            "\n",
            "Select operation:\n",
            "1. Add\n",
            "2. Subtract\n",
            "3. Multiply\n",
            "4. Divide\n",
            "5. Exit\n",
            "Enter choice (1/2/3/4/5): 2\n",
            "Enter first number: 30\n",
            "Enter second number: 20\n",
            "30.0 - 20.0 = 10.0\n",
            "\n",
            "Select operation:\n",
            "1. Add\n",
            "2. Subtract\n",
            "3. Multiply\n",
            "4. Divide\n",
            "5. Exit\n",
            "Enter choice (1/2/3/4/5): 3\n",
            "Enter first number: 20\n",
            "Enter second number: 40\n",
            "20.0 * 40.0 = 800.0\n",
            "\n",
            "Select operation:\n",
            "1. Add\n",
            "2. Subtract\n",
            "3. Multiply\n",
            "4. Divide\n",
            "5. Exit\n",
            "Enter choice (1/2/3/4/5): 4\n",
            "Enter first number: 60\n",
            "Enter second number: 80\n",
            "60.0 / 80.0 = 0.75\n",
            "\n",
            "Select operation:\n",
            "1. Add\n",
            "2. Subtract\n",
            "3. Multiply\n",
            "4. Divide\n",
            "5. Exit\n",
            "Enter choice (1/2/3/4/5): 5\n",
            "Exiting the calculator.\n"
          ]
        }
      ],
      "source": [
        "import numpy as np\n",
        "\n",
        "def add(x, y):\n",
        "    return np.add(x, y)\n",
        "\n",
        "def subtract(x, y):\n",
        "    return np.subtract(x, y)\n",
        "\n",
        "def multiply(x, y):\n",
        "    return np.multiply(x, y)\n",
        "\n",
        "def divide(x, y):\n",
        "    if y != 0:\n",
        "        return np.divide(x, y)\n",
        "    else:\n",
        "        return \"Error! Division by zero.\"\n",
        "\n",
        "def main():\n",
        "    print(\"Welcome to the Simple NumPy Calculator!\")\n",
        "    while True:\n",
        "        print(\"\\nSelect operation:\")\n",
        "        print(\"1. Add\")\n",
        "        print(\"2. Subtract\")\n",
        "        print(\"3. Multiply\")\n",
        "        print(\"4. Divide\")\n",
        "        print(\"5. Exit\")\n",
        "\n",
        "        choice = input(\"Enter choice (1/2/3/4/5): \")\n",
        "\n",
        "        if choice == '5':\n",
        "            print(\"Exiting the calculator.\")\n",
        "            break\n",
        "\n",
        "        try:\n",
        "            num1 = float(input(\"Enter first number: \"))\n",
        "            num2 = float(input(\"Enter second number: \"))\n",
        "        except ValueError:\n",
        "            print(\"Invalid input! Please enter a valid number.\")\n",
        "            continue\n",
        "\n",
        "        if choice == '1':\n",
        "            print(f\"{num1} + {num2} = {add(num1, num2)}\")\n",
        "\n",
        "        elif choice == '2':\n",
        "            print(f\"{num1} - {num2} = {subtract(num1, num2)}\")\n",
        "\n",
        "        elif choice == '3':\n",
        "            print(f\"{num1} * {num2} = {multiply(num1, num2)}\")\n",
        "\n",
        "        elif choice == '4':\n",
        "            print(f\"{num1} / {num2} = {divide(num1, num2)}\")\n",
        "\n",
        "        else:\n",
        "            print(\"Invalid input! Please choose a valid operation.\")\n",
        "\n",
        "if __name__ == \"__main__\":\n",
        "    main()\n"
      ]
    },
    {
      "cell_type": "code",
      "source": [
        "import numpy as np\n",
        "a1D = np.array([1, 2, 3, 4])\n",
        "a2D = np.array([[1, 2], [3, 4]])\n",
        "a3D = np.array([[[1, 2], [3, 4]], [[5, 6], [7, 8]]])\n",
        "print(a1D)\n",
        "print(a2D)\n",
        "print(a3D)"
      ],
      "metadata": {
        "colab": {
          "base_uri": "https://localhost:8080/"
        },
        "id": "JmwJGNLz_tm6",
        "outputId": "1e0d8211-666d-4d0c-c5be-be34e0cb5fcb"
      },
      "execution_count": 4,
      "outputs": [
        {
          "output_type": "stream",
          "name": "stdout",
          "text": [
            "[1 2 3 4]\n",
            "[[1 2]\n",
            " [3 4]]\n",
            "[[[1 2]\n",
            "  [3 4]]\n",
            "\n",
            " [[5 6]\n",
            "  [7 8]]]\n"
          ]
        }
      ]
    },
    {
      "cell_type": "code",
      "source": [
        "import numpy as np\n",
        "\n",
        "# Convert list to NumPy array\n",
        "def list_to_array(lst):\n",
        "    return np.array(lst)\n",
        "\n",
        "# Convert tuple to NumPy array\n",
        "def tuple_to_array(tpl):\n",
        "    return np.array(tpl)\n",
        "\n",
        "# Convert NumPy array to list\n",
        "def array_to_list(arr):\n",
        "    return arr.tolist()\n",
        "\n",
        "# Convert NumPy array to tuple\n",
        "def array_to_tuple(arr):\n",
        "    return tuple(arr)\n",
        "\n",
        "\n",
        "def main():\n",
        "\n",
        "    sample_list = [1, 2, 3, 4, 5]\n",
        "    sample_tuple = (10, 20, 30, 40, 50)\n",
        "\n",
        "    print(\"Original List:\", sample_list)\n",
        "    print(\"Original Tuple:\", sample_tuple)\n",
        "\n",
        "\n",
        "    numpy_array_from_list = list_to_array(sample_list)\n",
        "    print(\"\\nList to NumPy Array:\", numpy_array_from_list)\n",
        "\n",
        "\n",
        "    numpy_array_from_tuple = tuple_to_array(sample_tuple)\n",
        "    print(\"Tuple to NumPy Array:\", numpy_array_from_tuple)\n",
        "\n",
        "\n",
        "    list_from_array = array_to_list(numpy_array_from_list)\n",
        "    print(\"\\nNumPy Array back to List:\", list_from_array)\n",
        "\n",
        "\n",
        "    tuple_from_array = array_to_tuple(numpy_array_from_tuple)\n",
        "    print(\"NumPy Array back to Tuple:\", tuple_from_array)\n",
        "\n",
        "if __name__ == \"__main__\":\n",
        "    main()\n"
      ],
      "metadata": {
        "colab": {
          "base_uri": "https://localhost:8080/"
        },
        "id": "ptDyjfslA3zX",
        "outputId": "c8f9211e-8535-457a-8e84-b79e163023cf"
      },
      "execution_count": 8,
      "outputs": [
        {
          "output_type": "stream",
          "name": "stdout",
          "text": [
            "Original List: [1, 2, 3, 4, 5]\n",
            "Original Tuple: (10, 20, 30, 40, 50)\n",
            "\n",
            "List to NumPy Array: [1 2 3 4 5]\n",
            "Tuple to NumPy Array: [10 20 30 40 50]\n",
            "\n",
            "NumPy Array back to List: [1, 2, 3, 4, 5]\n",
            "NumPy Array back to Tuple: (10, 20, 30, 40, 50)\n"
          ]
        }
      ]
    },
    {
      "cell_type": "code",
      "source": [
        "import numpy as np\n",
        "\n",
        "def create_arrays():\n",
        "\n",
        "    arr_arange = np.arange(0, 10, 2)\n",
        "    print(\"Array created using np.arange():\", arr_arange)\n",
        "    arr_ones = np.ones((3, 4))\n",
        "    print(\"\\nArray created using np.ones():\\n\", arr_ones)\n",
        "    arr_zeros = np.zeros((2, 5))\n",
        "    print(\"\\nArray created using np.zeros():\\n\", arr_zeros)\n",
        "\n",
        "\n",
        "    arr_linspace = np.linspace(0, 1, 5)\n",
        "    print(\"\\nArray created using np.linspace():\", arr_linspace)\n",
        "\n",
        "\n",
        "    arr_eye = np.eye(4)\n",
        "    print(\"\\nArray created using np.eye():\\n\", arr_eye)\n",
        "\n",
        "    arr_full = np.full((2, 3), 7)\n",
        "    print(\"\\nArray created using np.full():\\n\", arr_full)\n",
        "\n",
        "\n",
        "    arr_random = np.random.rand(2, 3)\n",
        "    print(\"\\nArray created using np.random.rand():\\n\", arr_random)\n",
        "\n",
        "if __name__ == \"__main__\":\n",
        "    create_arrays()\n"
      ],
      "metadata": {
        "colab": {
          "base_uri": "https://localhost:8080/"
        },
        "id": "i-dcPwwsBzsu",
        "outputId": "b56e7363-8d31-4858-c2a3-b8cc9e2376f6"
      },
      "execution_count": 9,
      "outputs": [
        {
          "output_type": "stream",
          "name": "stdout",
          "text": [
            "Array created using np.arange(): [0 2 4 6 8]\n",
            "\n",
            "Array created using np.ones():\n",
            " [[1. 1. 1. 1.]\n",
            " [1. 1. 1. 1.]\n",
            " [1. 1. 1. 1.]]\n",
            "\n",
            "Array created using np.zeros():\n",
            " [[0. 0. 0. 0. 0.]\n",
            " [0. 0. 0. 0. 0.]]\n",
            "\n",
            "Array created using np.linspace(): [0.   0.25 0.5  0.75 1.  ]\n",
            "\n",
            "Array created using np.eye():\n",
            " [[1. 0. 0. 0.]\n",
            " [0. 1. 0. 0.]\n",
            " [0. 0. 1. 0.]\n",
            " [0. 0. 0. 1.]]\n",
            "\n",
            "Array created using np.full():\n",
            " [[7 7 7]\n",
            " [7 7 7]]\n",
            "\n",
            "Array created using np.random.rand():\n",
            " [[0.31617462 0.84953504 0.34762988]\n",
            " [0.46959045 0.45453417 0.92111853]]\n"
          ]
        }
      ]
    },
    {
      "cell_type": "code",
      "source": [
        "import numpy as np\n",
        "\n",
        "def demonstrate_array_operations():\n",
        "\n",
        "    arr1 = np.array([1, 2, 3])\n",
        "    arr2 = np.array([4, 5, 6])\n",
        "    arr3 = np.array([[1, 2], [3, 4]])\n",
        "\n",
        "    print(\"Original Arrays:\")\n",
        "    print(\"arr1:\", arr1)\n",
        "    print(\"arr2:\", arr2)\n",
        "    print(\"arr3:\\n\", arr3)\n",
        "\n",
        "\n",
        "    arr1_tiled = np.tile(arr1, 3)\n",
        "    print(\"\\nArray after np.tile() replication:\", arr1_tiled)\n",
        "\n",
        "\n",
        "    arr1_repeated = np.repeat(arr1, 2)\n",
        "    print(\"Array after np.repeat() replication:\", arr1_repeated)\n",
        "    arr_concatenated = np.concatenate((arr1, arr2))\n",
        "    print(\"\\nArray after np.concatenate():\", arr_concatenated)\n",
        "\n",
        "\n",
        "    arr_stacked = np.stack((arr1, arr2))\n",
        "    print(\"Array after np.stack():\\n\", arr_stacked)\n",
        "\n",
        "\n",
        "    arr_hstacked = np.hstack((arr1, arr2))\n",
        "    print(\"Array after np.hstack():\", arr_hstacked)\n",
        "\n",
        "\n",
        "    arr_vstacked = np.vstack((arr1, arr2))\n",
        "    print(\"Array after np.vstack():\\n\", arr_vstacked)\n",
        "\n",
        "\n",
        "    arr_mutated_add = arr1 + 10\n",
        "    print(\"\\nArray after mutation (add 10 to each element):\", arr_mutated_add)\n",
        "\n",
        "\n",
        "    arr3[0, 1] = 10\n",
        "    print(\"Array arr3 after in-place mutation:\\n\", arr3)\n",
        "\n",
        "if __name__ == \"__main__\":\n",
        "    demonstrate_array_operations()\n"
      ],
      "metadata": {
        "colab": {
          "base_uri": "https://localhost:8080/"
        },
        "id": "Nd2Z8TV2Cr4c",
        "outputId": "af725d5f-c1f9-4de0-ab2a-98cde8fb846b"
      },
      "execution_count": 12,
      "outputs": [
        {
          "output_type": "stream",
          "name": "stdout",
          "text": [
            "Original Arrays:\n",
            "arr1: [1 2 3]\n",
            "arr2: [4 5 6]\n",
            "arr3:\n",
            " [[1 2]\n",
            " [3 4]]\n",
            "\n",
            "Array after np.tile() replication: [1 2 3 1 2 3 1 2 3]\n",
            "Array after np.repeat() replication: [1 1 2 2 3 3]\n",
            "\n",
            "Array after np.concatenate(): [1 2 3 4 5 6]\n",
            "Array after np.stack():\n",
            " [[1 2 3]\n",
            " [4 5 6]]\n",
            "Array after np.hstack(): [1 2 3 4 5 6]\n",
            "Array after np.vstack():\n",
            " [[1 2 3]\n",
            " [4 5 6]]\n",
            "\n",
            "Array after mutation (add 10 to each element): [11 12 13]\n",
            "Array arr3 after in-place mutation:\n",
            " [[ 1 10]\n",
            " [ 3  4]]\n"
          ]
        }
      ]
    },
    {
      "cell_type": "code",
      "source": [
        "import numpy as np\n",
        "\n",
        "def read_arrays_from_disk():\n",
        "\n",
        "    try:\n",
        "\n",
        "        arr_txt = np.loadtxt('data.txt')\n",
        "        print(\"Array read from 'data.txt':\\n\", arr_txt)\n",
        "    except OSError as e:\n",
        "        print(f\"Error reading 'data.txt': {e}\")\n",
        "    try:\n",
        "\n",
        "        arr_csv = np.genfromtxt('data.csv', delimiter=',')\n",
        "        print(\"\\nArray read from 'data.csv':\\n\", arr_csv)\n",
        "    except OSError as e:\n",
        "        print(f\"Error reading 'data.csv': {e}\")\n",
        "\n",
        "\n",
        "    try:\n",
        "\n",
        "        arr_npy = np.load('data.npy')\n",
        "        print(\"\\nArray read from 'data.npy':\\n\", arr_npy)\n",
        "    except OSError as e:\n",
        "        print(f\"Error reading 'data.npy': {e}\")\n",
        "\n",
        "\n",
        "    try:\n",
        "\n",
        "        with np.load('data.npz') as data:\n",
        "            arr1 = data['arr1']\n",
        "            arr2 = data['arr2']\n",
        "            print(\"\\nArrays read from 'data.npz':\")\n",
        "            print(\"arr1:\\n\", arr1)\n",
        "            print(\"arr2:\\n\", arr2)\n",
        "    except OSError as e:\n",
        "        print(f\"Error reading 'data.npz': {e}\")\n",
        "\n",
        "if __name__ == \"__main__\":\n",
        "    read_arrays_from_disk()\n"
      ],
      "metadata": {
        "colab": {
          "base_uri": "https://localhost:8080/"
        },
        "id": "9KbFux_gEuwt",
        "outputId": "8380f9c1-e06e-4230-8387-d8170fa6ccf9"
      },
      "execution_count": 13,
      "outputs": [
        {
          "output_type": "stream",
          "name": "stdout",
          "text": [
            "Error reading 'data.txt': data.txt not found.\n",
            "Error reading 'data.csv': data.csv not found.\n",
            "Error reading 'data.npy': [Errno 2] No such file or directory: 'data.npy'\n",
            "Error reading 'data.npz': [Errno 2] No such file or directory: 'data.npz'\n"
          ]
        }
      ]
    },
    {
      "cell_type": "code",
      "source": [],
      "metadata": {
        "id": "Lbj6H3S9FX_X"
      },
      "execution_count": null,
      "outputs": []
    },
    {
      "cell_type": "code",
      "source": [
        "import numpy as np\n",
        "\n",
        "def create_arrays_from_raw_bytes():\n",
        "\n",
        "    byte_data = bytes([1, 2, 3, 4, 5, 6, 7, 8, 9, 10])\n",
        "    arr_from_buffer = np.frombuffer(byte_data, dtype=np.uint8)\n",
        "    print(\"Array created from raw bytes using np.frombuffer:\\n\", arr_from_buffer)\n",
        "\n",
        "\n",
        "    byte_string = b\"1 2 3 4 5 6 7 8 9 10\"\n",
        "    arr_from_buffer_string = np.frombuffer(byte_string, dtype=np.uint8)\n",
        "    print(\"\\nArray created from raw byte string using np.frombuffer:\\n\", arr_from_buffer_string)\n",
        "\n",
        "\n",
        "    byte_data_custom = bytes([1, 0, 0, 0, 2, 0, 0, 0])\n",
        "    arr_from_custom_bytes = np.frombuffer(byte_data_custom, dtype=np.int32)\n",
        "    print(\"\\nArray created from raw bytes (custom dtype) using np.frombuffer:\\n\", arr_from_custom_bytes)\n",
        "\n",
        "\n",
        "    raw_string = \"1 2 3 4 5 6 7 8 9 10\"\n",
        "    arr_from_string = np.fromstring(raw_string, dtype=int, sep=\" \")\n",
        "    print(\"\\nArray created from raw string using np.fromstring:\\n\", arr_from_string)\n",
        "\n",
        "if __name__ == \"__main__\":\n",
        "    create_arrays_from_raw_bytes()\n"
      ],
      "metadata": {
        "colab": {
          "base_uri": "https://localhost:8080/"
        },
        "id": "sj69rcP6FYcQ",
        "outputId": "3bb02aab-a31f-49d0-dfdd-5a4e18a787fa"
      },
      "execution_count": 14,
      "outputs": [
        {
          "output_type": "stream",
          "name": "stdout",
          "text": [
            "Array created from raw bytes using np.frombuffer:\n",
            " [ 1  2  3  4  5  6  7  8  9 10]\n",
            "\n",
            "Array created from raw byte string using np.frombuffer:\n",
            " [49 32 50 32 51 32 52 32 53 32 54 32 55 32 56 32 57 32 49 48]\n",
            "\n",
            "Array created from raw bytes (custom dtype) using np.frombuffer:\n",
            " [1 2]\n",
            "\n",
            "Array created from raw string using np.fromstring:\n",
            " [ 1  2  3  4  5  6  7  8  9 10]\n"
          ]
        }
      ]
    },
    {
      "cell_type": "code",
      "source": [
        "import numpy as np\n",
        "\n",
        "def demonstrate_random_functions():\n",
        "    rand_uniform = np.random.rand(5)\n",
        "\n",
        "    print(\"Random numbers from uniform distribution [0, 1):\\n\", rand_uniform)\n",
        "\n",
        "\n",
        "    rand_normal = np.random.randn(3, 4)\n",
        "    print(\"\\nRandom numbers from standard normal distribution (mean=0, std=1):\\n\", rand_normal)\n",
        "\n",
        "\n",
        "    rand_integers = np.random.randint(10, 50, size=5)\n",
        "    print(\"\\nRandom integers between 10 and 50:\\n\", rand_integers)\n",
        "\n",
        "\n",
        "    arr = np.array([10, 20, 30, 40, 50])\n",
        "    rand_sample = np.random.choice(arr, size=3, replace=False)\n",
        "    print(\"\\nRandomly sampled elements from an array:\\n\", rand_sample)\n",
        "\n",
        "\n",
        "    np.random.shuffle(arr)\n",
        "    print(\"\\nArray after shuffle:\\n\", arr)\n",
        "    np.random.seed(42)\n",
        "    random_numbers_with_seed = np.random.rand(3)\n",
        "    print(\"\\nRandom numbers with seed 42 (reproducible):\\n\", random_numbers_with_seed)\n",
        "\n",
        "if __name__ == \"__main__\":\n",
        "    demonstrate_random_functions()\n"
      ],
      "metadata": {
        "colab": {
          "base_uri": "https://localhost:8080/"
        },
        "id": "LWJLIs-IGGOk",
        "outputId": "c9c97416-dd0d-4bea-a2f1-41cce36271a3"
      },
      "execution_count": 15,
      "outputs": [
        {
          "output_type": "stream",
          "name": "stdout",
          "text": [
            "Random numbers from uniform distribution [0, 1):\n",
            " [0.0108451  0.30439558 0.40617137 0.36703361 0.20654641]\n",
            "\n",
            "Random numbers from standard normal distribution (mean=0, std=1):\n",
            " [[ 0.31391639  0.04796963  0.34288944 -0.76368448]\n",
            " [ 0.50668605 -1.09617978 -0.28710865 -1.28818394]\n",
            " [-0.8111117   0.14393086  0.91444807 -0.13708576]]\n",
            "\n",
            "Random integers between 10 and 50:\n",
            " [46 15 49 23 40]\n",
            "\n",
            "Randomly sampled elements from an array:\n",
            " [50 20 10]\n",
            "\n",
            "Array after shuffle:\n",
            " [30 20 50 40 10]\n",
            "\n",
            "Random numbers with seed 42 (reproducible):\n",
            " [0.37454012 0.95071431 0.73199394]\n"
          ]
        }
      ]
    },
    {
      "cell_type": "code",
      "source": [],
      "metadata": {
        "id": "OUWtxrfyG_IK"
      },
      "execution_count": null,
      "outputs": []
    }
  ]
}